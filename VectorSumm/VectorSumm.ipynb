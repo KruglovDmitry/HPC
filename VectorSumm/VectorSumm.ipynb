{
 "cells": [
  {
   "cell_type": "code",
   "execution_count": 3,
   "id": "58acc656-5a7f-4bf2-a627-591b3adf5403",
   "metadata": {},
   "outputs": [
    {
     "name": "stdout",
     "output_type": "stream",
     "text": [
      "nvcc: NVIDIA (R) Cuda compiler driver\n",
      "Copyright (c) 2005-2021 NVIDIA Corporation\n",
      "Built on Sun_Feb_14_21:12:58_PST_2021\n",
      "Cuda compilation tools, release 11.2, V11.2.152\n",
      "Build cuda_11.2.r11.2/compiler.29618528_0\n"
     ]
    }
   ],
   "source": [
    "!nvcc --version"
   ]
  },
  {
   "cell_type": "code",
   "execution_count": 4,
   "id": "d86e9c8f-e1d3-4e4e-9e96-5e4734da3e9e",
   "metadata": {},
   "outputs": [
    {
     "name": "stdout",
     "output_type": "stream",
     "text": [
      "Collecting git+https://github.com/andreinechaev/nvcc4jupyter.git\n",
      "  Cloning https://github.com/andreinechaev/nvcc4jupyter.git to /tmp/pip-req-build-wpw3adf5\n",
      "  Running command git clone --filter=blob:none --quiet https://github.com/andreinechaev/nvcc4jupyter.git /tmp/pip-req-build-wpw3adf5\n",
      "  Resolved https://github.com/andreinechaev/nvcc4jupyter.git to commit aac710a35f52bb78ab34d2e52517237941399eff\n",
      "  Preparing metadata (setup.py) ... \u001b[?25ldone\n",
      "\u001b[33mWARNING: Running pip as the 'root' user can result in broken permissions and conflicting behaviour with the system package manager. It is recommended to use a virtual environment instead: https://pip.pypa.io/warnings/venv\u001b[0m\u001b[33m\n",
      "\u001b[0m\u001b[?25h"
     ]
    }
   ],
   "source": [
    "!pip install git+https://github.com/andreinechaev/nvcc4jupyter.git"
   ]
  },
  {
   "cell_type": "code",
   "execution_count": 5,
   "id": "ab5b4612-67cb-4d89-b270-c689915fef9e",
   "metadata": {},
   "outputs": [
    {
     "name": "stdout",
     "output_type": "stream",
     "text": [
      "directory /notebooks/src already exists\n",
      "Out bin /notebooks/result.out\n"
     ]
    }
   ],
   "source": [
    "%load_ext nvcc_plugin"
   ]
  },
  {
   "cell_type": "code",
   "execution_count": 14,
   "id": "177232ed-9390-4bad-925e-a1228cc77695",
   "metadata": {},
   "outputs": [
    {
     "name": "stdout",
     "output_type": "stream",
     "text": [
      "Суммируем вектор из 1048576 элементов\n",
      "Количество проходов Kernel: 3\n",
      "Количество блоков: 4096\n",
      "Количество блоков: 16\n",
      "Количество блоков: 1\n",
      "CPU результат - 524282\n",
      "GPU результат - 524285\n",
      "Время CPU функции: 3387 микросекунд\n",
      "Время GPU функции: 170401 микросекунд\n",
      "\n"
     ]
    }
   ],
   "source": [
    "%%cu\n",
    "#include <stdio.h>\n",
    "#include <cuda_runtime.h>\n",
    "#include <math.h> \n",
    "#include \"cuda.h\"\n",
    "#include <iostream>\n",
    "#include <chrono>\n",
    "#include <cassert>\n",
    "\n",
    "using namespace std;\n",
    "using namespace std::chrono;\n",
    "\n",
    "const int NUM_ELEMENTS = 1 << 20;\n",
    "const int THREADS_PER_BLOCK = 128;\n",
    "const int NUM_OPERATIONS = 1;\n",
    "const float MAXERROR = 0.001;\n",
    "float* d_A = NULL;\n",
    "float* d_C = NULL;\n",
    "\n",
    "// Device functions\n",
    "__global__ void vectorAdd(const float* A, float* C) {\n",
    "\t__shared__ float sdata[THREADS_PER_BLOCK];\n",
    "\tunsigned int tid = threadIdx.x;\n",
    "\tunsigned int i = blockIdx.x * (blockDim.x * 2) + threadIdx.x;\n",
    "\tsdata[tid] = A[i] + A[i + blockDim.x];\n",
    "\t__syncthreads();\n",
    "    \n",
    "\t// Reduction in shared mem\n",
    "\tfor(unsigned int s = blockDim.x / 2; s > 0; s >>= 1) {\n",
    "\t\tif (tid < s) {\n",
    "\t\t\tsdata[tid] += sdata[tid + s];\n",
    "\t\t}\n",
    "\t\t__syncthreads();\n",
    "\t}\n",
    "    \n",
    "\t// Write result for this block to global mem\n",
    "\tif(tid == 0) C[blockIdx.x] = sdata[0];\n",
    "\t__syncthreads();\n",
    "}\n",
    "\n",
    "int calculateThreads(int iteration) {\n",
    "\tint result = NUM_ELEMENTS;\n",
    "\tfor (int i = 1; i < iteration; i++) {\n",
    "\t\tresult /= (THREADS_PER_BLOCK * 2);\n",
    "\t}\n",
    "\treturn result/2;\n",
    "}\n",
    "\n",
    "float gpu_vector_sum(float *vector, float *red_vector, const int n) {\n",
    "    size_t size = n * sizeof(float);\n",
    "    \n",
    "    // Allocate cuda memory\n",
    "\tcudaMalloc((void**)& d_A, size);\n",
    "\tcudaMalloc((void**)& d_C, size);\n",
    "\n",
    "\tint kernel_execs = 0, b_base = 1;\n",
    "\twhile (b_base < NUM_ELEMENTS) {\n",
    "\t\tb_base *= THREADS_PER_BLOCK * 2;\n",
    "\t\tkernel_execs++;\n",
    "\t}\n",
    "\tprintf(\"Количество проходов Kernel: %d\\n\", kernel_execs);\n",
    "\n",
    "\tcudaMemcpy(d_A, vector, size, cudaMemcpyHostToDevice);\n",
    "\n",
    "\tint blocks = -1;\n",
    "\tint elements = n;\n",
    "\tfor (int i = 0; i < kernel_execs; i++) {\n",
    "\t\tint blocks = ceil(elements / (THREADS_PER_BLOCK * 2.0));\n",
    "\t\tprintf(\"Количество блоков: %d\\n\", blocks);\n",
    "\t\tvectorAdd << < blocks, THREADS_PER_BLOCK >> > (d_A, d_C);\t\t\n",
    "\t\tcudaMemcpy(d_A, d_C, size, cudaMemcpyDeviceToDevice);\n",
    "\t\tif (i + 1 < kernel_execs) {\n",
    "\t\t\tcudaMemset(d_C, 0, size);\n",
    "\t\t}\n",
    "\t\telements = blocks;\n",
    "\t}\n",
    "    \n",
    "    // Copy result to host memory\n",
    "\tcudaMemcpy(red_vector, d_C, size, cudaMemcpyDeviceToHost);\n",
    "    \n",
    "    // Dispose cuda memory\n",
    "    cudaFree(d_A);\n",
    "    cudaFree(d_C);\n",
    "    return red_vector[0];\n",
    "}\n",
    "\n",
    "float cpu_vector_sum(float *vector, const int n) {\n",
    "\tfloat checkSum = 0;\n",
    "\tfor (int i = 0; i < n; ++i) {\n",
    "\t\tcheckSum += vector[i];\n",
    "\t}\n",
    "    return checkSum;\n",
    "}\n",
    "\n",
    "void init_vector(float *vector, const int n) {\n",
    "\tfor (int i = 0; i < n; ++i) {\n",
    "\t\tvector[i] = rand() / (float)RAND_MAX;\n",
    "\t}\n",
    "}\n",
    "\n",
    "int main(void) {\n",
    "    size_t size = NUM_ELEMENTS * sizeof(float);\n",
    "    printf(\"Суммируем вектор из %d элементов\\n\", NUM_ELEMENTS);\n",
    "\n",
    "    // Allocate the host input vector A and C\n",
    "    float* h_A = (float*)malloc(size);\n",
    "    float* h_C = (float*)malloc(size); \n",
    "    \n",
    "    // Initialize input vector\n",
    "    init_vector(h_A,NUM_ELEMENTS);\n",
    "    \n",
    "    auto startCPU = high_resolution_clock::now();\n",
    "    float cpuResult = cpu_vector_sum(h_A, NUM_ELEMENTS);\n",
    "    auto stopCPU = high_resolution_clock::now();\n",
    "    auto durationCPU = duration_cast<microseconds>(stopCPU - startCPU);\n",
    "    \n",
    "    auto startGPU = high_resolution_clock::now();\n",
    "    float gpuResult =  gpu_vector_sum(h_A, h_C, NUM_ELEMENTS);\n",
    "    auto stopGPU = high_resolution_clock::now();\n",
    "    auto durationGPU = duration_cast<microseconds>(stopGPU - startGPU);\n",
    "    \n",
    "    assert(cpuResult - gpuResult < cpuResult * MAXERROR);\n",
    "    cout << \"CPU результат - \" << cpuResult << endl;\n",
    "    cout << \"GPU результат - \" << gpuResult << endl; \n",
    "    cout << \"Время CPU функции: \" << durationCPU.count() << \" микросекунд\" << endl;\n",
    "    cout << \"Время GPU функции: \" << durationGPU.count() << \" микросекунд\" << endl;\n",
    "    \n",
    "    // Free host memory\n",
    "    free(h_A);\n",
    "    free(h_C);\n",
    "\treturn 0;\n",
    "}"
   ]
  },
  {
   "cell_type": "code",
   "execution_count": 12,
   "id": "2ddf0da0-d603-4fb2-afc6-b5694079b855",
   "metadata": {},
   "outputs": [
    {
     "data": {
      "image/png": "[encoded data removed]",
      "text/plain": [
       "<Figure size 432x288 with 1 Axes>"
      ]
     },
     "metadata": {
      "needs_background": "light"
     },
     "output_type": "display_data"
    }
   ],
   "source": [
    "import matplotlib.pyplot as plt\n",
    "\n",
    "cpu = [14, 56, 231, 863, 3599];\n",
    "gpu = [170398, 168623, 173252, 167957, 166719];\n",
    "size = [4096, 16384, 65536, 262144, 1048576];\n",
    "\n",
    "fig, ax = plt.subplots()\n",
    "ax.plot(size, cpu, label=\"cpu\")\n",
    "ax.plot(size, gpu, label=\"gpu\")\n",
    "ax.legend()\n",
    "\n",
    "plt.show()"
   ]
  },
  {
   "cell_type": "code",
   "execution_count": null,
   "id": "b131e109-ad29-484b-8617-3884f6970aaa",
   "metadata": {},
   "outputs": [],
   "source": [
    "Распараллеленно поблочное сложение элементов (в функции device сначала вектор уменьшаеться вдвое и далее в блоке циклом \n",
    "сокращаеться еще вдвое за каждый проход), внешний цикл проходит блоки. Данный алгоритм имеет низкую эффективность по \n",
    "сравнению с CPU функцией, так как она линейна по времени и имеет o(n) = n (числу элементов вектора), сложение CUDA требует \n",
    "затрат на работу с памятю, что в даном случае оказывает решающее значение."
   ]
  }
 ],
 "metadata": {
  "kernelspec": {
   "display_name": "Python 3 (ipykernel)",
   "language": "python",
   "name": "python3"
  },
  "language_info": {
   "codemirror_mode": {
    "name": "ipython",
    "version": 3
   },
   "file_extension": ".py",
   "mimetype": "text/x-python",
   "name": "python",
   "nbconvert_exporter": "python",
   "pygments_lexer": "ipython3",
   "version": "3.9.13"
  }
 },
 "nbformat": 4,
 "nbformat_minor": 5
}
