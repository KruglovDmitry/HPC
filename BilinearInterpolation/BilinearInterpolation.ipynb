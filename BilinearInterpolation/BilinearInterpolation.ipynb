{
 "cells": [
  {
   "cell_type": "code",
   "execution_count": 1,
   "id": "d325e66f-9955-4711-a573-1042542b6af6",
   "metadata": {},
   "outputs": [
    {
     "name": "stdout",
     "output_type": "stream",
     "text": [
      "nvcc: NVIDIA (R) Cuda compiler driver\n",
      "Copyright (c) 2005-2021 NVIDIA Corporation\n",
      "Built on Sun_Feb_14_21:12:58_PST_2021\n",
      "Cuda compilation tools, release 11.2, V11.2.152\n",
      "Build cuda_11.2.r11.2/compiler.29618528_0\n"
     ]
    }
   ],
   "source": [
    "!nvcc --version"
   ]
  },
  {
   "cell_type": "code",
   "execution_count": 2,
   "id": "89d4f0cf-8acb-4c34-8634-69c1d4a58700",
   "metadata": {},
   "outputs": [
    {
     "name": "stdout",
     "output_type": "stream",
     "text": [
      "Collecting git+https://github.com/andreinechaev/nvcc4jupyter.git\n",
      "  Cloning https://github.com/andreinechaev/nvcc4jupyter.git to /tmp/pip-req-build-ywwbw79k\n",
      "  Running command git clone --filter=blob:none --quiet https://github.com/andreinechaev/nvcc4jupyter.git /tmp/pip-req-build-ywwbw79k\n",
      "  Resolved https://github.com/andreinechaev/nvcc4jupyter.git to commit aac710a35f52bb78ab34d2e52517237941399eff\n",
      "  Preparing metadata (setup.py) ... \u001b[?25ldone\n",
      "\u001b[?25hBuilding wheels for collected packages: NVCCPlugin\n",
      "  Building wheel for NVCCPlugin (setup.py) ... \u001b[?25ldone\n",
      "\u001b[?25h  Created wheel for NVCCPlugin: filename=NVCCPlugin-0.0.2-py3-none-any.whl size=4289 sha256=1aa6c5dac522ad15efd8266154f91d0adf74ad4ed6b956f6cc6014fa555e04eb\n",
      "  Stored in directory: /tmp/pip-ephem-wheel-cache-ljj3nr53/wheels/db/c1/1f/a2bb07bbb4a1ce3c43921252aeafaa6205f08637e292496f04\n",
      "Successfully built NVCCPlugin\n",
      "Installing collected packages: NVCCPlugin\n",
      "Successfully installed NVCCPlugin-0.0.2\n",
      "\u001b[33mWARNING: Running pip as the 'root' user can result in broken permissions and conflicting behaviour with the system package manager. It is recommended to use a virtual environment instead: https://pip.pypa.io/warnings/venv\u001b[0m\u001b[33m\n",
      "\u001b[0m"
     ]
    }
   ],
   "source": [
    "!pip install git+https://github.com/andreinechaev/nvcc4jupyter.git"
   ]
  },
  {
   "cell_type": "code",
   "execution_count": 3,
   "id": "a1a74e0b-2a61-4427-bcfc-7b801fb0d96b",
   "metadata": {},
   "outputs": [
    {
     "name": "stdout",
     "output_type": "stream",
     "text": [
      "directory /notebooks/BilinearInterpolation/src already exists\n",
      "Out bin /notebooks/BilinearInterpolation/result.out\n"
     ]
    }
   ],
   "source": [
    "%load_ext nvcc_plugin"
   ]
  },
  {
   "cell_type": "code",
   "execution_count": 5,
   "id": "e0886eec-4bb1-45b7-9e79-68372e84082a",
   "metadata": {},
   "outputs": [
    {
     "name": "stdout",
     "output_type": "stream",
     "text": [
      "Image width - 320\n",
      "Image height - 213\n",
      "GPU результат - 171663 микросекунд\n",
      "CPU результат - 150132 микросекунд\n",
      "\n"
     ]
    }
   ],
   "source": [
    "%%cu\n",
    "#include \"/notebooks/BilateralFiltering/EasyBMP.h\"\n",
    "#include \"/notebooks/BilateralFiltering/EasyBMP_BMP.h\"\n",
    "#include \"/notebooks/BilateralFiltering/EasyBMP_DataStructures.h\"\n",
    "#include \"/notebooks/BilateralFiltering/EasyBMP_VariousBMPutilities.h\"\n",
    "#include \"/notebooks/BilateralFiltering/EasyBMP.cpp\"\n",
    "#include <iostream>\n",
    "#include <cuda_runtime.h>\n",
    "#include <ctime>\n",
    "\n",
    "#include <string>\n",
    "#include <iomanip>\n",
    "#include <chrono>\n",
    "\n",
    "using namespace std;\n",
    "using namespace std::chrono;\n",
    "\n",
    "texture<float, cudaTextureType2D, cudaReadModeElementType> texRef;\n",
    "\n",
    "void saveImage(float* image, int height, int width, bool method) {\n",
    "    BMP Output;\n",
    "    Output.SetSize(width, height);\n",
    "\n",
    "    for (int i = 0; i < height; i++) {\n",
    "        for (int j = 0; j < width; j++) {\n",
    "            RGBApixel pixel;\n",
    "            pixel.Red = image[i * width + j];\n",
    "            pixel.Green = image[i * width + j];\n",
    "            pixel.Blue = image[i * width + j];\n",
    "            Output.SetPixel(j, i, pixel);\n",
    "        }\n",
    "    }\n",
    "    if (method)\n",
    "        Output.WriteToFile(\"/notebooks/BilinearInterpolation/outputGPU.bmp\");\n",
    "    else\n",
    "        Output.WriteToFile(\"/notebooks/BilinearInterpolation/outputCPU.bmp\");\n",
    "}\n",
    "\n",
    "void filterCPU(float* image, float* resault, int height, int width)\n",
    "{\n",
    "    for (int j = 0; j < height-1; j++) {\n",
    "        for (int i = 0; i < width-1; i++) {\n",
    "\n",
    "            float f01 = image[j * width + i];\n",
    "            float f11 = image[j * width + i + 1];\n",
    "            float f00 = image[j * width + width + i];\n",
    "            float f10 = image[j * width + width + i + 1];\n",
    "\n",
    "            float n11 = f01 * 0.5 + f11 * 0.5;\n",
    "            float n00 = f00 * 0.5 + f01 * 0.5;\n",
    "            float n10 = f00 * 0.5 * 0.5 + f10 * 0.5 * 0.5 + f01 * 0.5 * 0.5 + f11 * 0.5 * 0.5;\n",
    "\n",
    "            resault[j* width * 4 + i * 2] = f01;\n",
    "            resault[j * width * 4 + i * 2 + 1] = n11;\n",
    "            resault[j * width * 4 + i * 2 + width * 2] = n00;\n",
    "            resault[j * width * 4 + i * 2 + width * 2 + 1] = n10;\n",
    "        }\n",
    "    }\n",
    "}\n",
    "\n",
    "__global__ void filterGPU(float* output, int imageWidth, int imageHeight) {\n",
    "\n",
    "    int col = blockIdx.x * blockDim.x + threadIdx.x;\n",
    "    int row = blockIdx.y * blockDim.y + threadIdx.y;\n",
    "\n",
    "    float f01 = tex2D(texRef, col, row);\n",
    "    float f11 = tex2D(texRef, col+1, row);\n",
    "    float f00 = tex2D(texRef, col, row+1);\n",
    "    float f10 = tex2D(texRef, col + 1, row+1);\n",
    "\n",
    "    float n11 = f01*0.5+f11*0.5;\n",
    "    float n00 = f00*0.5+f01*0.5;\n",
    "    float n10 = f00 * 0.5 * 0.5 + f10 * 0.5*0.5 + f01 * 0.5 * 0.5 + f11 * 0.5 * 0.5;\n",
    "\n",
    "    output[row * imageWidth * 4 + col*2] = f01;\n",
    "    output[row * imageWidth * 4 + col * 2 + 1] = n11;\n",
    "    output[row * imageWidth * 4 + col * 2 + imageWidth * 2] = n00;\n",
    "    output[row * imageWidth * 4 + col * 2 + imageWidth * 2 + 1] = n10;\n",
    "}\n",
    "\n",
    "void transformImageCPU(float* image, float* output, int height, int width, int iterations) {\n",
    "    for (int j = 0; j < iterations; j++) {\n",
    "        filterCPU(image, output, height, width);\n",
    "    }\n",
    "}\n",
    "\n",
    "void transformImageGPU(float* image, float* output, float* outputDevice, int height, int width, int iterations) {\n",
    "\n",
    "    cudaChannelFormatDesc channelDesc = cudaCreateChannelDesc(32, 0, 0, 0, cudaChannelFormatKindFloat);\n",
    "    cudaArray* cu_arr;\n",
    "        \n",
    "    cudaMallocArray(&cu_arr, &channelDesc, width, height);\n",
    "    cudaMemcpyToArray(cu_arr, 0, 0, image, height * width * sizeof(float), cudaMemcpyHostToDevice);\n",
    "    texRef.addressMode[0] = cudaAddressModeClamp;\n",
    "    texRef.addressMode[1] = cudaAddressModeClamp;\n",
    "    texRef.filterMode = cudaFilterModePoint;\n",
    "\n",
    "    cudaBindTextureToArray(texRef, cu_arr, channelDesc);\n",
    "    cudaMalloc(&outputDevice, height * width * 4* sizeof(float));\n",
    "        \n",
    "    dim3 threadsPerBlock(16, 16);\n",
    "    dim3 blocksPerGrid((width + threadsPerBlock.x - 1) / threadsPerBlock.x, \n",
    "                       (height + threadsPerBlock.y - 1) / threadsPerBlock.y);\n",
    "    \n",
    "    for (int j = 0; j < iterations; j++) {\n",
    "        filterGPU << <blocksPerGrid, threadsPerBlock >> > (outputDevice, width, height);\n",
    "    }\n",
    "    \n",
    "    cudaDeviceSynchronize();\n",
    "    cudaMemcpy(output, outputDevice, height * width * 4 * sizeof(float), cudaMemcpyDeviceToHost);\n",
    "    cudaFreeArray(cu_arr);\n",
    "    cudaFree(outputDevice);\n",
    "} \n",
    "\n",
    "\n",
    "int main(void)\n",
    "{\n",
    "    SetEasyBMPwarningsOff();\n",
    "    int nIter = 100;\n",
    "    BMP Image;\n",
    "    Image.ReadFromFile(\"/notebooks/BilinearInterpolation/sample_320×213.bmp\");\n",
    "    int height = Image.TellHeight();\n",
    "    int width = Image.TellWidth();\n",
    "    \n",
    "    cout << \"Image width - \" << width << endl;\n",
    "    cout << \"Image height - \" << height << endl;\n",
    "    \n",
    "    float* imageArray = (float*)calloc(height * width, sizeof(float));\n",
    "    float* outputCPU = (float*)calloc(height * width*4, sizeof(float));\n",
    "    float* outputGPU = (float*)calloc(height * width*4, sizeof(float));\n",
    "    float* outputDevice;\n",
    "\n",
    "    for (int j = 0; j < Image.TellHeight(); j++) {\n",
    "        for (int i = 0; i < Image.TellWidth(); i++) {\n",
    "            imageArray[j * width + i] = Image(i, j)->Red;\n",
    "        }\n",
    "    }\n",
    "    \n",
    "    auto startCPU = high_resolution_clock::now();  \n",
    "    transformImageCPU(imageArray, outputCPU, height, width, nIter);\n",
    "    auto stopCPU = high_resolution_clock::now();\n",
    "    auto durationCPU = duration_cast<microseconds>(stopCPU - startCPU);\n",
    "\n",
    "    auto startGPU = high_resolution_clock::now(); \n",
    "    transformImageGPU(imageArray, outputGPU, outputDevice, height, width, nIter);\n",
    "    auto stopGPU = high_resolution_clock::now();\n",
    "    auto durationGPU = duration_cast<microseconds>(stopGPU - startGPU);\n",
    "    \n",
    "    cout << \"GPU результат - \" << durationGPU.count() << \" микросекунд\" << endl;\n",
    "    cout << \"CPU результат - \" << durationCPU.count() << \" микросекунд\" << endl;\n",
    "    \n",
    "    saveImage(outputGPU, height*2, width*2, true);\n",
    "    saveImage(outputCPU, height*2, width*2, false);\n",
    "    return 0;\n",
    "}"
   ]
  },
  {
   "cell_type": "code",
   "execution_count": 36,
   "id": "704af61f-9be3-4f09-a63f-d629e62e3ea6",
   "metadata": {},
   "outputs": [
    {
     "data": {
      "image/png": "[encoded data removed]",
      "text/plain": [
       "<Figure size 432x288 with 1 Axes>"
      ]
     },
     "metadata": {
      "needs_background": "light"
     },
     "output_type": "display_data"
    }
   ],
   "source": [
    "import matplotlib.pyplot as plt\n",
    "\n",
    "cpu = [6927, 30480, 126522, 489303, 1981285];\n",
    "gpu = [147106, 154961, 158522, 163784, 189801];\n",
    "size = ['75x75px', '125x125px', '250x250px', '500x500px', '1000x1000px'];\n",
    "\n",
    "fig, ax = plt.subplots()\n",
    "ax.plot(size, cpu, label=\"cpu\")\n",
    "ax.plot(size, gpu, label=\"gpu\")\n",
    "ax.legend()\n",
    "\n",
    "plt.show()"
   ]
  },
  {
   "cell_type": "code",
   "execution_count": null,
   "id": "e9a689d5-c132-4db8-8c09-c2d1954b8ed8",
   "metadata": {},
   "outputs": [],
   "source": [
    "Распараллелено вычисление окрестностей точки с использованием функций текстур (tex2D). Алгоритм параллельного вычисления\n",
    "с использованием GPU в данном случае показывает высокую эффективность, особенно это становится заметно при размерах \n",
    "изображений от 500x500px. С учетом современных требований в качеству изображений прменение графических многопоточных\n",
    "процессоров для их обработки и фильтрации становиться безальтернативным."
   ]
  }
 ],
 "metadata": {
  "kernelspec": {
   "display_name": "Python 3 (ipykernel)",
   "language": "python",
   "name": "python3"
  },
  "language_info": {
   "codemirror_mode": {
    "name": "ipython",
    "version": 3
   },
   "file_extension": ".py",
   "mimetype": "text/x-python",
   "name": "python",
   "nbconvert_exporter": "python",
   "pygments_lexer": "ipython3",
   "version": "3.9.13"
  }
 },
 "nbformat": 4,
 "nbformat_minor": 5
}
